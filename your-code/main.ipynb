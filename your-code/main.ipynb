{
 "cells": [
  {
   "cell_type": "markdown",
   "id": "392405cd",
   "metadata": {},
   "source": [
    "# LAB | A/B Testing in Python"
   ]
  },
  {
   "cell_type": "markdown",
   "id": "14cf8128",
   "metadata": {},
   "source": [
    "### Challenge 1: 🚀 *Comparing Two Website Versions Using Hypothesis Testing*  "
   ]
  },
  {
   "cell_type": "markdown",
   "id": "1099b7e3",
   "metadata": {},
   "source": [
    "### **Objective**: \n",
    "Perform an A/B test to determine if a new webpage design (`Version B`) leads to a higher **click-through rate (CTR)** than the original (`Version A`).  "
   ]
  },
  {
   "cell_type": "markdown",
   "id": "57115b11",
   "metadata": {},
   "source": [
    "#### 📌 **Project Overview**  \n",
    "We’ll:  \n",
    "1. **Simulate** A/B test data (users & clicks).  \n",
    "2. **Analyze** the results using statistical tests.  \n",
    "3. **Conclude** whether `Version B` performs better.  \n",
    "\n"
   ]
  },
  {
   "cell_type": "markdown",
   "id": "b02d75f8",
   "metadata": {},
   "source": [
    "### **Problem Statement**  \n",
    "You are a data analyst at an e-commerce company. The team wants to test if a new webpage design (`Version B`) increases click-through rates (CTR) compared to the original (`Version A`).  \n",
    "\n",
    "### **Tasks**  \n",
    "1. **Simulate Data**:  \n",
    "   - Generate synthetic data for `Version A` (1000 visitors, 150 clicks) and `Version B` (1050 visitors, 180 clicks).  \n",
    "2. **Statistical Test**:  \n",
    "   - Perform a **Statistical Test** to compare CTRs.  \n",
    "3. **Interpretation**:  \n",
    "   - Determine if the difference is statistically significant (use α = 0.05).  \n",
    "4. **Visualization**:  \n",
    "   - Plot the CTRs for both versions using appropriate chart.  \n",
    "\n",
    "**Deliverables**:  \n",
    "- Code for simulation, testing, and visualization.  \n",
    "- Written conclusion (1–2 sentences) on whether `Version B` performs better.  "
   ]
  },
  {
   "cell_type": "markdown",
   "id": "c0fdd42c",
   "metadata": {},
   "source": [
    "#### 🛠 **Setup & Data Generation**  \n",
    "First, let’s create synthetic data for the experiment.  \n"
   ]
  },
  {
   "cell_type": "code",
   "execution_count": 27,
   "id": "fd3ceeb4",
   "metadata": {},
   "outputs": [],
   "source": [
    "### Import Libraries\n",
    "import numpy as np\n",
    "import pandas as pd\n",
    "from scipy import stats\n",
    "import matplotlib.pyplot as plt\n",
    "import seaborn as sns\n",
    "from statsmodels.stats.proportion import proportions_ztest"
   ]
  },
  {
   "cell_type": "markdown",
   "id": "7471a52c",
   "metadata": {},
   "source": [
    "> Simulate User Data, We’ll assume:\n",
    "\n",
    "- Version A: 1000 visitors, 150 clicks.\n",
    "\n",
    "- Version B: 1050 visitors, 180 clicks."
   ]
  },
  {
   "cell_type": "code",
   "execution_count": 8,
   "id": "8f0b5265",
   "metadata": {},
   "outputs": [],
   "source": [
    "# Simulate data\n",
    "np.random.seed(42)\n",
    "visitors_a = 1000\n",
    "clicks_a = 150\n",
    "visitors_b = 1050\n",
    "clicks_b = 180"
   ]
  },
  {
   "cell_type": "code",
   "execution_count": 9,
   "id": "d0525eff",
   "metadata": {},
   "outputs": [
    {
     "name": "stdout",
     "output_type": "stream",
     "text": [
      "CTR Version A: 0.15\n",
      "CTR Version B: 0.17142857142857143\n"
     ]
    }
   ],
   "source": [
    "data_a = np.concatenate([np.ones(clicks_a), np.zeros(visitors_a - clicks_a)])\n",
    "data_b = np.concatenate([np.ones(clicks_b), np.zeros(visitors_b - clicks_b)])\n",
    "\n",
    "np.random.shuffle(data_a)\n",
    "np.random.shuffle(data_b)\n",
    "\n",
    "ctr_a = np.mean(data_a)\n",
    "ctr_b = np.mean(data_b)\n",
    "\n",
    "print(\"CTR Version A:\", ctr_a)\n",
    "print(\"CTR Version B:\", ctr_b)"
   ]
  },
  {
   "cell_type": "markdown",
   "id": "b007477e",
   "metadata": {},
   "source": [
    "📊 Perform A/B Test\n",
    "We’ll use a Chi-Square Test to compare proportions.\n",
    "\n",
    "- Hypotheses"
   ]
  },
  {
   "cell_type": "code",
   "execution_count": 10,
   "id": "7b10c736",
   "metadata": {},
   "outputs": [
    {
     "name": "stdout",
     "output_type": "stream",
     "text": [
      "Contingency Table:\n",
      "[[150 850]\n",
      " [180 870]]\n"
     ]
    }
   ],
   "source": [
    "# Null Hypothesis (H₀): `#TODO`.\n",
    "# Alternative Hypothesis `#TODO`.\n",
    "non_clicks_a = visitors_a - clicks_a\n",
    "non_clicks_b = visitors_b - clicks_b\n",
    "\n",
    "contingency_table = np.array([\n",
    "    [clicks_a, non_clicks_a],\n",
    "    [clicks_b, non_clicks_b]\n",
    "])\n",
    "\n",
    "print(\"Contingency Table:\")\n",
    "print(contingency_table)"
   ]
  },
  {
   "cell_type": "markdown",
   "id": "6f94acbe",
   "metadata": {},
   "source": [
    "\n",
    "- Run the Test"
   ]
  },
  {
   "cell_type": "code",
   "execution_count": 11,
   "id": "5b1fcda3",
   "metadata": {},
   "outputs": [
    {
     "name": "stdout",
     "output_type": "stream",
     "text": [
      "\n",
      "Chi-Square Statistic: 1.586311673629987\n",
      "P-value: 0.20785388523374118\n",
      "Degrees of Freedom: 1\n",
      "Expected Frequencies:\n",
      "[[160.97560976 839.02439024]\n",
      " [169.02439024 880.97560976]]\n"
     ]
    }
   ],
   "source": [
    "# TODO\n",
    "# Insert your code HERE\n",
    "chi2, p_value, dof, expected = stats.chi2_contingency(contingency_table)\n",
    "\n",
    "print(\"\\nChi-Square Statistic:\", chi2)\n",
    "print(\"P-value:\", p_value)\n",
    "print(\"Degrees of Freedom:\", dof)\n",
    "print(\"Expected Frequencies:\")\n",
    "print(expected)"
   ]
  },
  {
   "cell_type": "markdown",
   "id": "c52bcea2",
   "metadata": {},
   "source": [
    "> Interpret Results"
   ]
  },
  {
   "cell_type": "code",
   "execution_count": 12,
   "id": "a2c7c16c",
   "metadata": {},
   "outputs": [],
   "source": [
    "# TODO\n",
    "# Insert your code HERE\n",
    "\n",
    "#At the given significance level, the differences in CTR between Version A and Version B are not statistically significant. This suggests that the observed differences (with Version B having slightly more clicks) could be due to random chance, and there is insufficient evidence to claim that the new version significantly improves CTR compared to the original."
   ]
  },
  {
   "cell_type": "markdown",
   "id": "c925ed9f",
   "metadata": {},
   "source": [
    "📈 Visualization"
   ]
  },
  {
   "cell_type": "code",
   "execution_count": 28,
   "id": "94ca3b5a",
   "metadata": {},
   "outputs": [
    {
     "data": {
      "image/png": "[encoded data removed]",
      "text/plain": [
       "<Figure size 1200x400 with 2 Axes>"
      ]
     },
     "metadata": {},
     "output_type": "display_data"
    },
    {
     "data": {
      "image/png": "[encoded data removed]",
      "text/plain": [
       "<Figure size 1200x500 with 2 Axes>"
      ]
     },
     "metadata": {},
     "output_type": "display_data"
    },
    {
     "data": {
      "image/png": "[encoded data removed]",
      "text/plain": [
       "<Figure size 800x500 with 1 Axes>"
      ]
     },
     "metadata": {},
     "output_type": "display_data"
    }
   ],
   "source": [
    "# TODO\n",
    "# Insert your code HERE\n",
    "\n",
    "# Heatmaps\n",
    "fig, axes = plt.subplots(1, 2, figsize=(12, 4))\n",
    "sns.heatmap(contingency_table, annot=True, fmt=\"d\", cmap=\"Blues\", ax=axes[0], cbar=False,\n",
    "            xticklabels=['Clicks', 'Non-Clicks'], yticklabels=['Group A', 'Group B'])\n",
    "axes[0].set_title('Observed Frequencies')  # Translated title\n",
    "\n",
    "sns.heatmap(expected, annot=True, fmt=\".1f\", cmap=\"Greens\", ax=axes[1], cbar=False,\n",
    "            xticklabels=['Clicks', 'Non-Clicks'], yticklabels=['Group A', 'Group B'])\n",
    "axes[1].set_title('Expected Frequencies')  # Translated title\n",
    "plt.tight_layout()\n",
    "plt.show()\n",
    "\n",
    "# Bar charts\n",
    "fig, (ax1, ax2) = plt.subplots(1, 2, figsize=(12, 5))\n",
    "categories = ['Clicks', 'Non-Clicks']\n",
    "width = 0.35\n",
    "\n",
    "ax1.bar(categories, contingency_table[0], width, label='Observed', color='blue', alpha=0.7)  # Translated label\n",
    "ax1.bar(categories, expected[0], width, label='Expected', color='orange', alpha=0.7)  # Translated label\n",
    "ax1.set_title('Group A')  # Translated title\n",
    "ax1.legend()\n",
    "\n",
    "ax2.bar(categories, contingency_table[1], width, label='Observed', color='blue', alpha=0.7)\n",
    "ax2.bar(categories, expected[1], width, label='Expected', color='orange', alpha=0.7)\n",
    "ax2.set_title('Group B')  # Translated title\n",
    "ax2.legend()\n",
    "plt.tight_layout()\n",
    "plt.show()\n",
    "\n",
    "# Chi-square distribution plot\n",
    "fig, ax = plt.subplots(figsize=(8, 5))\n",
    "x = np.linspace(0, 5, 1000)\n",
    "chi_pdf = stats.chi2.pdf(x, dof)\n",
    "ax.plot(x, chi_pdf, 'b-', label=f'Chi-Square Distribution (dof={dof})')  # Translated label\n",
    "\n",
    "critical_value = stats.chi2.ppf(0.95, dof)\n",
    "ax.axvline(critical_value, color='green', linestyle=':', label=f'Critical Value = {critical_value:.2f}')  # Translated\n",
    "ax.axvline(chi2, color='red', linestyle='--', label=f'Test Statistic = {chi2:.2f}')  # Translated\n",
    "ax.fill_between(x, chi_pdf, where=(x >= critical_value), color='red', alpha=0.3, label='Rejection Region')  # Translated\n",
    "ax.text(3.5, 0.2, f'p-value = {p_value:.3f}', fontsize=12)  # Already in English\n",
    "\n",
    "ax.set_title('Chi-Square Test Result')  # Translated title\n",
    "ax.set_xlabel('Chi-Square Statistic')  # Translated label\n",
    "ax.set_ylabel('Probability Density')  # Translated label\n",
    "ax.legend()\n",
    "plt.tight_layout()\n",
    "plt.show()"
   ]
  },
  {
   "cell_type": "markdown",
   "id": "afdb44b2",
   "metadata": {},
   "source": [
    "## Challenge 2: 🚀 A/B Testing Challenge with Real Data"
   ]
  },
  {
   "cell_type": "markdown",
   "id": "67bd5560",
   "metadata": {},
   "source": [
    "#### **Objective**:  \n",
    "1. Analyze **real A/B test data** (from Kaggle) to compare conversion rates.  \n",
    "2. Use **bootstrapping** to estimate confidence intervals.  \n",
    "\n",
    "---\n",
    "\n",
    "#### 📌 **Project Overview**  \n",
    "We’ll:  \n",
    "1. **Load real A/B test data** (user sessions and conversions).  \n",
    "2. **Compare conversion rates** using statistical tests.  \n",
    "3. **Apply bootstrapping** to validate results.  \n",
    "\n"
   ]
  },
  {
   "cell_type": "markdown",
   "id": "ec536e52",
   "metadata": {},
   "source": [
    "### **Problem Statement**  \n",
    "Use the [Kaggle Marketing A/B Test dataset](https://www.kaggle.com/datasets/faviovaz/marketing-ab-testing) to analyze if a new marketing campaign (`Group B`) improves conversion rates over the old campaign (`Group A`).  \n",
    "\n",
    "### **Tasks**  \n",
    "1. **Data Preparation**:  \n",
    "   - Load the dataset and explore key metrics (sample sizes, conversion rates).  \n",
    "2. **Hypothesis Testing**:  \n",
    "   - Perform a **Statistical Test** to compare conversions between groups.  \n",
    "3. **Bootstrapping**:  \n",
    "   - Implement bootstrapping (`n=1000` resamples) to estimate 95% confidence intervals for conversion rates.  \n",
    "4. **Visualization**:  \n",
    "   -Compare conversion rates for both groups.  \n",
    "\n",
    "**Deliverables**:  \n",
    "- Code for analysis and bootstrapping.  \n",
    "- Answers:  \n",
    "  - P-value and statistical conclusion.  \n",
    "  - Confidence intervals for both groups.  "
   ]
  },
  {
   "cell_type": "markdown",
   "id": "812e92c7",
   "metadata": {},
   "source": [
    "#### 🛠 **Setup & Data Loading**  \n"
   ]
  },
  {
   "cell_type": "code",
   "execution_count": 14,
   "id": "a855dda5",
   "metadata": {},
   "outputs": [],
   "source": [
    "### Import Libraries"
   ]
  },
  {
   "cell_type": "markdown",
   "id": "55a40acd",
   "metadata": {},
   "source": [
    "> Load Open-Source Dataset\n",
    "We’ll use the [\"A/B Test Results\"](https://www.kaggle.com/datasets/faviovaz/marketing-ab-testing) dataset from Kaggle."
   ]
  },
  {
   "cell_type": "code",
   "execution_count": 30,
   "id": "1824729f",
   "metadata": {},
   "outputs": [
    {
     "data": {
      "text/html": [
       "<div>\n",
       "<style scoped>\n",
       "    .dataframe tbody tr th:only-of-type {\n",
       "        vertical-align: middle;\n",
       "    }\n",
       "\n",
       "    .dataframe tbody tr th {\n",
       "        vertical-align: top;\n",
       "    }\n",
       "\n",
       "    .dataframe thead th {\n",
       "        text-align: right;\n",
       "    }\n",
       "</style>\n",
       "<table border=\"1\" class=\"dataframe\">\n",
       "  <thead>\n",
       "    <tr style=\"text-align: right;\">\n",
       "      <th></th>\n",
       "      <th>Unnamed: 0</th>\n",
       "      <th>user id</th>\n",
       "      <th>test group</th>\n",
       "      <th>converted</th>\n",
       "      <th>total ads</th>\n",
       "      <th>most ads day</th>\n",
       "      <th>most ads hour</th>\n",
       "    </tr>\n",
       "  </thead>\n",
       "  <tbody>\n",
       "    <tr>\n",
       "      <th>0</th>\n",
       "      <td>0</td>\n",
       "      <td>1069124</td>\n",
       "      <td>ad</td>\n",
       "      <td>False</td>\n",
       "      <td>130</td>\n",
       "      <td>Monday</td>\n",
       "      <td>20</td>\n",
       "    </tr>\n",
       "    <tr>\n",
       "      <th>1</th>\n",
       "      <td>1</td>\n",
       "      <td>1119715</td>\n",
       "      <td>ad</td>\n",
       "      <td>False</td>\n",
       "      <td>93</td>\n",
       "      <td>Tuesday</td>\n",
       "      <td>22</td>\n",
       "    </tr>\n",
       "    <tr>\n",
       "      <th>2</th>\n",
       "      <td>2</td>\n",
       "      <td>1144181</td>\n",
       "      <td>ad</td>\n",
       "      <td>False</td>\n",
       "      <td>21</td>\n",
       "      <td>Tuesday</td>\n",
       "      <td>18</td>\n",
       "    </tr>\n",
       "    <tr>\n",
       "      <th>3</th>\n",
       "      <td>3</td>\n",
       "      <td>1435133</td>\n",
       "      <td>ad</td>\n",
       "      <td>False</td>\n",
       "      <td>355</td>\n",
       "      <td>Tuesday</td>\n",
       "      <td>10</td>\n",
       "    </tr>\n",
       "    <tr>\n",
       "      <th>4</th>\n",
       "      <td>4</td>\n",
       "      <td>1015700</td>\n",
       "      <td>ad</td>\n",
       "      <td>False</td>\n",
       "      <td>276</td>\n",
       "      <td>Friday</td>\n",
       "      <td>14</td>\n",
       "    </tr>\n",
       "    <tr>\n",
       "      <th>...</th>\n",
       "      <td>...</td>\n",
       "      <td>...</td>\n",
       "      <td>...</td>\n",
       "      <td>...</td>\n",
       "      <td>...</td>\n",
       "      <td>...</td>\n",
       "      <td>...</td>\n",
       "    </tr>\n",
       "    <tr>\n",
       "      <th>588096</th>\n",
       "      <td>588096</td>\n",
       "      <td>1278437</td>\n",
       "      <td>ad</td>\n",
       "      <td>False</td>\n",
       "      <td>1</td>\n",
       "      <td>Tuesday</td>\n",
       "      <td>23</td>\n",
       "    </tr>\n",
       "    <tr>\n",
       "      <th>588097</th>\n",
       "      <td>588097</td>\n",
       "      <td>1327975</td>\n",
       "      <td>ad</td>\n",
       "      <td>False</td>\n",
       "      <td>1</td>\n",
       "      <td>Tuesday</td>\n",
       "      <td>23</td>\n",
       "    </tr>\n",
       "    <tr>\n",
       "      <th>588098</th>\n",
       "      <td>588098</td>\n",
       "      <td>1038442</td>\n",
       "      <td>ad</td>\n",
       "      <td>False</td>\n",
       "      <td>3</td>\n",
       "      <td>Tuesday</td>\n",
       "      <td>23</td>\n",
       "    </tr>\n",
       "    <tr>\n",
       "      <th>588099</th>\n",
       "      <td>588099</td>\n",
       "      <td>1496395</td>\n",
       "      <td>ad</td>\n",
       "      <td>False</td>\n",
       "      <td>1</td>\n",
       "      <td>Tuesday</td>\n",
       "      <td>23</td>\n",
       "    </tr>\n",
       "    <tr>\n",
       "      <th>588100</th>\n",
       "      <td>588100</td>\n",
       "      <td>1237779</td>\n",
       "      <td>ad</td>\n",
       "      <td>False</td>\n",
       "      <td>1</td>\n",
       "      <td>Tuesday</td>\n",
       "      <td>23</td>\n",
       "    </tr>\n",
       "  </tbody>\n",
       "</table>\n",
       "<p>588101 rows × 7 columns</p>\n",
       "</div>"
      ],
      "text/plain": [
       "        Unnamed: 0  user id test group  converted  total ads most ads day  \\\n",
       "0                0  1069124         ad      False        130       Monday   \n",
       "1                1  1119715         ad      False         93      Tuesday   \n",
       "2                2  1144181         ad      False         21      Tuesday   \n",
       "3                3  1435133         ad      False        355      Tuesday   \n",
       "4                4  1015700         ad      False        276       Friday   \n",
       "...            ...      ...        ...        ...        ...          ...   \n",
       "588096      588096  1278437         ad      False          1      Tuesday   \n",
       "588097      588097  1327975         ad      False          1      Tuesday   \n",
       "588098      588098  1038442         ad      False          3      Tuesday   \n",
       "588099      588099  1496395         ad      False          1      Tuesday   \n",
       "588100      588100  1237779         ad      False          1      Tuesday   \n",
       "\n",
       "        most ads hour  \n",
       "0                  20  \n",
       "1                  22  \n",
       "2                  18  \n",
       "3                  10  \n",
       "4                  14  \n",
       "...               ...  \n",
       "588096             23  \n",
       "588097             23  \n",
       "588098             23  \n",
       "588099             23  \n",
       "588100             23  \n",
       "\n",
       "[588101 rows x 7 columns]"
      ]
     },
     "execution_count": 30,
     "metadata": {},
     "output_type": "execute_result"
    }
   ],
   "source": [
    "# Load data (ensure CSV is in your working directory)\n",
    "data = pd.read_csv(\"./data/marketing_AB.csv\")  # Download from Kaggle first!\n",
    "data"
   ]
  },
  {
   "cell_type": "markdown",
   "id": "16057220",
   "metadata": {},
   "source": [
    "📊 Part 1: Traditional A/B Test\n",
    "> Calculate Conversion Rates"
   ]
  },
  {
   "cell_type": "code",
   "execution_count": 32,
   "id": "56fab67b",
   "metadata": {},
   "outputs": [],
   "source": [
    "# TODO\n",
    "# Insert your code HERE\n",
    "group_a = data[data[\"test group\"] == \"psa\"][\"converted\"]\n",
    "group_b = data[data[\"test group\"] == \"ad\"][\"converted\"]"
   ]
  },
  {
   "cell_type": "markdown",
   "id": "a1321446",
   "metadata": {},
   "source": [
    "> Statistical Test"
   ]
  },
  {
   "cell_type": "code",
   "execution_count": 34,
   "id": "decf60de",
   "metadata": {},
   "outputs": [
    {
     "name": "stdout",
     "output_type": "stream",
     "text": [
      "T-statistic: -7.37040597428566\n",
      "P-value: 1.7033052627831264e-13\n"
     ]
    }
   ],
   "source": [
    "# TODO\n",
    "# Insert your code HERE\n",
    "tstat, pvalue = stats.ttest_ind(group_a, group_b) \n",
    "# Print the results \n",
    "print(f\"T-statistic: {tstat}\") \n",
    "print(f\"P-value: {pvalue}\")"
   ]
  },
  {
   "cell_type": "markdown",
   "id": "7dd2ccd0",
   "metadata": {},
   "source": [
    "#### EXTRA 📈 Part 2: Bootstrapping Challenge\n",
    "**Why Bootstrapping?**\n",
    " - Bootstrapping helps estimate confidence intervals for conversion rates by resampling data.\n",
    "\n",
    "> Bootstrap Function"
   ]
  },
  {
   "cell_type": "code",
   "execution_count": 35,
   "id": "1ad5d36a",
   "metadata": {},
   "outputs": [
    {
     "name": "stdout",
     "output_type": "stream",
     "text": [
      "95% confidence interval for Group A: (0.016, 0.020)\n",
      "95% confidence interval for Group B: (0.025, 0.026)\n"
     ]
    }
   ],
   "source": [
    "def bootstrap(data, n_resamples=1000, ci=95):\n",
    "    resampled_means = []\n",
    "    \n",
    "    for _ in range(n_resamples):\n",
    "        resample = np.random.choice(data, size=len(data), replace=True)\n",
    "        resampled_means.append(np.mean(resample))\n",
    "\n",
    "    lower_bound = np.percentile(resampled_means, (100 - ci) / 2)\n",
    "    upper_bound = np.percentile(resampled_means, ci + (100 - ci) / 2)\n",
    "    \n",
    "    return lower_bound, upper_bound, resampled_means\n",
    "\n",
    "# Apply bootstrapping to the groups\n",
    "lower_bound_a, upper_bound_a, boot_means_a = bootstrap(group_a)\n",
    "lower_bound_b, upper_bound_b, boot_means_b = bootstrap(group_b)\n",
    "\n",
    "# Print the confidence intervals\n",
    "print(f\"95% confidence interval for Group A: ({lower_bound_a:.3f}, {upper_bound_a:.3f})\")\n",
    "print(f\"95% confidence interval for Group B: ({lower_bound_b:.3f}, {upper_bound_b:.3f})\")\n"
   ]
  },
  {
   "cell_type": "markdown",
   "id": "e9015c19",
   "metadata": {},
   "source": [
    ">Visualize Resultsm"
   ]
  },
  {
   "cell_type": "code",
   "execution_count": 36,
   "id": "8a737b3f",
   "metadata": {},
   "outputs": [
    {
     "data": {
      "image/png": "[encoded data removed]",
      "text/plain": [
       "<Figure size 1200x600 with 2 Axes>"
      ]
     },
     "metadata": {},
     "output_type": "display_data"
    }
   ],
   "source": [
    "# TODO\n",
    "# Insert your code HERE\n",
    "# Visualization: Plot histograms of the bootstrapped means for each group\n",
    "plt.figure(figsize=(12, 6))\n",
    "\n",
    "# Histogram for Group A\n",
    "plt.subplot(1, 2, 1)\n",
    "plt.hist(boot_means_a, bins=30, color='skyblue', edgecolor='black', alpha=0.7)\n",
    "plt.axvline(lower_bound_a, color='red', linestyle='--', label=f'Lower 95% CI\\n({lower_bound_a:.3f})')\n",
    "plt.axvline(upper_bound_a, color='red', linestyle='--', label=f'Upper 95% CI\\n({upper_bound_a:.3f})')\n",
    "plt.title('Bootstrapping for Group A')\n",
    "plt.xlabel('Conversion Rate')\n",
    "plt.ylabel('Frequency')\n",
    "plt.legend()\n",
    "\n",
    "# Histogram for Group B\n",
    "plt.subplot(1, 2, 2)\n",
    "plt.hist(boot_means_b, bins=30, color='lightgreen', edgecolor='black', alpha=0.7)\n",
    "plt.axvline(lower_bound_b, color='red', linestyle='--', label=f'Lower 95% CI\\n({lower_bound_b:.3f})')\n",
    "plt.axvline(upper_bound_b, color='red', linestyle='--', label=f'Upper 95% CI\\n({upper_bound_b:.3f})')\n",
    "plt.title('Bootstrapping for Group B')\n",
    "plt.xlabel('Conversion Rate')\n",
    "plt.ylabel('Frequency')\n",
    "plt.legend()\n",
    "\n",
    "plt.tight_layout()\n",
    "plt.show()"
   ]
  },
  {
   "cell_type": "markdown",
   "id": "f4e2aec7",
   "metadata": {},
   "source": [
    "## (Bonus) Challenge 3: 🎮 Advanced A/B Testing Challenge: Cookie Cats Retention Analysis "
   ]
  },
  {
   "cell_type": "markdown",
   "id": "aa0a8423",
   "metadata": {},
   "source": [
    "#### **Objective**:  \n",
    "1. Analyze player **retention rates** in the `cookie_cats` mobile game A/B test.  \n",
    "2. Implement **sequential testing** (to avoid peeking at results prematurely).  \n",
    "3. Conduct **power analysis** to determine optimal sample size.  \n",
    "\n",
    "### **Problem Statement**  \n",
    "Analyze the [Cookie Cats dataset](https://www.kaggle.com/datasets/yufengsui/mobile-games-ab-testing) to determine if moving the game’s first gate from level 30 (`gate_30`) to level 40 (`gate_40`) affects player retention.  \n",
    "\n",
    "### **Tasks**  \n",
    "1. **Retention Analysis**:  \n",
    "   - Compare **1-day retention rates** between `gate_30` and `gate_40` using a Z-test.  \n",
    "2. **Sequential Testing**:  \n",
    "   - Simulate checking results at intervals (every 500 users) to avoid \"peeking bias.\"  \n",
    "3. **Power Analysis**:  \n",
    "   - Calculate the required sample size to detect a 2% difference in retention (α = 0.05, power = 0.8).  \n",
    "4. **Optional**:  \n",
    "   - Repeat analysis for **7-day retention**.  \n",
    "\n",
    "**Deliverables**:  \n",
    "- Code for retention comparison, sequential testing, and power analysis.  \n",
    "- Written summary:  \n",
    "  - Does `gate_40` significantly impact retention?  \n",
    "  - How does sequential testing affect decision-making?  "
   ]
  },
  {
   "cell_type": "markdown",
   "id": "167d7506",
   "metadata": {},
   "source": [
    "\n",
    "\n",
    "### 🛠 **Setup & Data Loading**  \n"
   ]
  },
  {
   "cell_type": "code",
   "execution_count": 20,
   "id": "204f33c6",
   "metadata": {},
   "outputs": [],
   "source": [
    "# Import Libraries"
   ]
  },
  {
   "cell_type": "code",
   "execution_count": 39,
   "id": "9bf078ee",
   "metadata": {},
   "outputs": [],
   "source": [
    "# Load dataset \n",
    "df = pd.read_csv(\"./data/cookie_cats.csv\")  # Columns: userid, version, sum_gamerounds, retention_1, retention_7"
   ]
  },
  {
   "cell_type": "markdown",
   "id": "2ea7a8be",
   "metadata": {},
   "source": []
  },
  {
   "cell_type": "markdown",
   "id": "edcbe2d5",
   "metadata": {},
   "source": [
    "📊 Part 1: Retention Rate Analysis\n",
    "> Compare 1-Day Retention"
   ]
  },
  {
   "cell_type": "code",
   "execution_count": 46,
   "id": "25577893",
   "metadata": {},
   "outputs": [
    {
     "name": "stdout",
     "output_type": "stream",
     "text": [
      "gate_30: Total users = 44700 , Retained (1-day) = 20034\n",
      "gate_40: Total users = 45489 , Retained (1-day) = 20119\n",
      "1-Day Retention Rate (Gate 30): 0.448\n",
      "1-Day Retention Rate (Gate 40): 0.442\n"
     ]
    }
   ],
   "source": [
    "# TODO\n",
    "# Insert your code HERE\n",
    "\n",
    "\n",
    "# Assuming your data is in a DataFrame called df\n",
    "# For example: df = pd.read_csv('your_data.csv')\n",
    "\n",
    "# Filter the dataset for versions \"gate_30\" and \"gate_40\"\n",
    "df_gate_30 = df[df['version'] == 'gate_30']\n",
    "df_gate_40 = df[df['version'] == 'gate_40']\n",
    "\n",
    "# Calculate the number of users and the number of users with 1-day retention (retention_1 == True)\n",
    "n_gate_30 = len(df_gate_30)\n",
    "n_gate_40 = len(df_gate_40)\n",
    "\n",
    "# When retention_1 is a boolean, summing it gives the count of True values\n",
    "retained_gate_30 = df_gate_30['retention_1'].sum()\n",
    "retained_gate_40 = df_gate_40['retention_1'].sum()\n",
    "\n",
    "# Print the basic counts\n",
    "print(\"gate_30: Total users =\", n_gate_30, \", Retained (1-day) =\", retained_gate_30)\n",
    "print(\"gate_40: Total users =\", n_gate_40, \", Retained (1-day) =\", retained_gate_40)\n",
    "\n",
    "print(f\"1-Day Retention Rate (Gate 30): {retained_gate_30/n_gate_30:.3f}\")\n",
    "print(f\"1-Day Retention Rate (Gate 40): {retained_gate_40/n_gate_40:.3f}\")\n"
   ]
  },
  {
   "cell_type": "markdown",
   "id": "d60c1de3",
   "metadata": {},
   "source": [
    "> Statistical Test"
   ]
  },
  {
   "cell_type": "code",
   "execution_count": 50,
   "id": "119db7c3",
   "metadata": {},
   "outputs": [
    {
     "name": "stdout",
     "output_type": "stream",
     "text": [
      "Z statistic: 1.7840862247974725\n",
      "P-value: 0.03720482764845957\n"
     ]
    }
   ],
   "source": [
    "# TODO\n",
    "# Insert your code HERE\n",
    "\n",
    "counts = np.array([retained_gate_30, retained_gate_40])\n",
    "nobs = np.array([n_gate_30, n_gate_40])\n",
    "\n",
    "# Perform the Z-test for two proportions\n",
    "z_stat, p_value = proportions_ztest(counts, nobs, alternative=\"larger\")\n",
    "\n",
    "print(\"Z statistic:\", z_stat)\n",
    "print(\"P-value:\", p_value)"
   ]
  },
  {
   "cell_type": "markdown",
   "id": "8033db00",
   "metadata": {},
   "source": []
  },
  {
   "cell_type": "markdown",
   "id": "4aad973a",
   "metadata": {},
   "source": [
    "📈 Part 2: Sequential Testing\n",
    ">  Why Sequential Testing?\n",
    "\n",
    "- Avoids \"peeking\" at results prematurely by checking at intervals."
   ]
  },
  {
   "cell_type": "code",
   "execution_count": 51,
   "id": "04f99261",
   "metadata": {},
   "outputs": [
    {
     "name": "stdout",
     "output_type": "stream",
     "text": [
      "Sample size: 500 - p-value: 0.0554\n",
      "Sample size: 1000 - p-value: 0.5038\n",
      "Sample size: 1500 - p-value: 0.9379\n",
      "Sample size: 2000 - p-value: 0.7989\n",
      "Sample size: 2500 - p-value: 0.9158\n",
      "Sample size: 3000 - p-value: 0.3026\n",
      "Sample size: 3500 - p-value: 0.2695\n",
      "Sample size: 4000 - p-value: 0.2970\n",
      "Sample size: 4500 - p-value: 0.0609\n",
      "Sample size: 5000 - p-value: 0.0966\n",
      "Sample size: 5500 - p-value: 0.0861\n",
      "Sample size: 6000 - p-value: 0.0876\n",
      "Sample size: 6500 - p-value: 0.0660\n",
      "Sample size: 7000 - p-value: 0.1123\n",
      "Sample size: 7500 - p-value: 0.0402\n",
      "Sample size: 8000 - p-value: 0.0586\n",
      "Sample size: 8500 - p-value: 0.0337\n",
      "Sample size: 9000 - p-value: 0.0392\n",
      "Sample size: 9500 - p-value: 0.0556\n",
      "Sample size: 10000 - p-value: 0.0670\n",
      "Sample size: 10500 - p-value: 0.0291\n",
      "Sample size: 11000 - p-value: 0.0128\n",
      "Sample size: 11500 - p-value: 0.0055\n",
      "Sample size: 12000 - p-value: 0.0119\n",
      "Sample size: 12500 - p-value: 0.0299\n",
      "Sample size: 13000 - p-value: 0.0142\n",
      "Sample size: 13500 - p-value: 0.0074\n",
      "Sample size: 14000 - p-value: 0.0062\n",
      "Sample size: 14500 - p-value: 0.0036\n",
      "Sample size: 15000 - p-value: 0.0061\n",
      "Sample size: 15500 - p-value: 0.0067\n",
      "Sample size: 16000 - p-value: 0.0132\n",
      "Sample size: 16500 - p-value: 0.0252\n",
      "Sample size: 17000 - p-value: 0.0162\n",
      "Sample size: 17500 - p-value: 0.0256\n",
      "Sample size: 18000 - p-value: 0.0572\n",
      "Sample size: 18500 - p-value: 0.0541\n",
      "Sample size: 19000 - p-value: 0.0617\n",
      "Sample size: 19500 - p-value: 0.0716\n",
      "Sample size: 20000 - p-value: 0.0552\n",
      "Sample size: 20500 - p-value: 0.0655\n",
      "Sample size: 21000 - p-value: 0.0611\n",
      "Sample size: 21500 - p-value: 0.0729\n",
      "Sample size: 22000 - p-value: 0.0479\n",
      "Sample size: 22500 - p-value: 0.0543\n",
      "Sample size: 23000 - p-value: 0.0530\n",
      "Sample size: 23500 - p-value: 0.0441\n",
      "Sample size: 24000 - p-value: 0.0615\n",
      "Sample size: 24500 - p-value: 0.0578\n",
      "Sample size: 25000 - p-value: 0.1290\n",
      "Sample size: 25500 - p-value: 0.1117\n",
      "Sample size: 26000 - p-value: 0.1098\n",
      "Sample size: 26500 - p-value: 0.1038\n",
      "Sample size: 27000 - p-value: 0.0810\n",
      "Sample size: 27500 - p-value: 0.0855\n",
      "Sample size: 28000 - p-value: 0.0801\n",
      "Sample size: 28500 - p-value: 0.0709\n",
      "Sample size: 29000 - p-value: 0.0826\n",
      "Sample size: 29500 - p-value: 0.0958\n",
      "Sample size: 30000 - p-value: 0.0790\n",
      "Sample size: 30500 - p-value: 0.0779\n",
      "Sample size: 31000 - p-value: 0.0905\n",
      "Sample size: 31500 - p-value: 0.0904\n",
      "Sample size: 32000 - p-value: 0.0839\n",
      "Sample size: 32500 - p-value: 0.0721\n",
      "Sample size: 33000 - p-value: 0.0535\n",
      "Sample size: 33500 - p-value: 0.0562\n",
      "Sample size: 34000 - p-value: 0.0482\n",
      "Sample size: 34500 - p-value: 0.0536\n",
      "Sample size: 35000 - p-value: 0.0527\n",
      "Sample size: 35500 - p-value: 0.0656\n",
      "Sample size: 36000 - p-value: 0.0525\n",
      "Sample size: 36500 - p-value: 0.0590\n",
      "Sample size: 37000 - p-value: 0.0566\n",
      "Sample size: 37500 - p-value: 0.0491\n",
      "Sample size: 38000 - p-value: 0.0387\n",
      "Sample size: 38500 - p-value: 0.0427\n",
      "Sample size: 39000 - p-value: 0.0467\n",
      "Sample size: 39500 - p-value: 0.0455\n",
      "Sample size: 40000 - p-value: 0.0445\n",
      "Sample size: 40500 - p-value: 0.0331\n",
      "Sample size: 41000 - p-value: 0.0418\n",
      "Sample size: 41500 - p-value: 0.0361\n",
      "Sample size: 42000 - p-value: 0.0442\n",
      "Sample size: 42500 - p-value: 0.0428\n",
      "Sample size: 43000 - p-value: 0.0537\n",
      "Sample size: 43500 - p-value: 0.0520\n",
      "Sample size: 44000 - p-value: 0.0535\n",
      "Sample size: 44500 - p-value: 0.0589\n",
      "Sample size: 45000 - p-value: 0.0483\n",
      "Sample size: 45500 - p-value: 0.0374\n",
      "Sample size: 46000 - p-value: 0.0561\n",
      "Sample size: 46500 - p-value: 0.0663\n",
      "Sample size: 47000 - p-value: 0.0609\n",
      "Sample size: 47500 - p-value: 0.0802\n",
      "Sample size: 48000 - p-value: 0.1026\n",
      "Sample size: 48500 - p-value: 0.1307\n",
      "Sample size: 49000 - p-value: 0.0962\n",
      "Sample size: 49500 - p-value: 0.1124\n",
      "Sample size: 50000 - p-value: 0.1166\n",
      "Sample size: 50500 - p-value: 0.1462\n",
      "Sample size: 51000 - p-value: 0.1292\n",
      "Sample size: 51500 - p-value: 0.1319\n",
      "Sample size: 52000 - p-value: 0.1214\n",
      "Sample size: 52500 - p-value: 0.1332\n",
      "Sample size: 53000 - p-value: 0.1534\n",
      "Sample size: 53500 - p-value: 0.1793\n",
      "Sample size: 54000 - p-value: 0.1589\n",
      "Sample size: 54500 - p-value: 0.1632\n",
      "Sample size: 55000 - p-value: 0.1748\n",
      "Sample size: 55500 - p-value: 0.1392\n",
      "Sample size: 56000 - p-value: 0.1188\n",
      "Sample size: 56500 - p-value: 0.1013\n",
      "Sample size: 57000 - p-value: 0.0937\n",
      "Sample size: 57500 - p-value: 0.1069\n",
      "Sample size: 58000 - p-value: 0.1163\n",
      "Sample size: 58500 - p-value: 0.1009\n",
      "Sample size: 59000 - p-value: 0.1181\n",
      "Sample size: 59500 - p-value: 0.0907\n",
      "Sample size: 60000 - p-value: 0.0913\n",
      "Sample size: 60500 - p-value: 0.1084\n",
      "Sample size: 61000 - p-value: 0.1054\n",
      "Sample size: 61500 - p-value: 0.0913\n",
      "Sample size: 62000 - p-value: 0.0838\n",
      "Sample size: 62500 - p-value: 0.0986\n",
      "Sample size: 63000 - p-value: 0.0979\n",
      "Sample size: 63500 - p-value: 0.0613\n",
      "Sample size: 64000 - p-value: 0.0796\n",
      "Sample size: 64500 - p-value: 0.0865\n",
      "Sample size: 65000 - p-value: 0.0890\n",
      "Sample size: 65500 - p-value: 0.0858\n",
      "Sample size: 66000 - p-value: 0.1187\n",
      "Sample size: 66500 - p-value: 0.1309\n",
      "Sample size: 67000 - p-value: 0.1347\n",
      "Sample size: 67500 - p-value: 0.1069\n",
      "Sample size: 68000 - p-value: 0.0868\n",
      "Sample size: 68500 - p-value: 0.0986\n",
      "Sample size: 69000 - p-value: 0.0709\n",
      "Sample size: 69500 - p-value: 0.0691\n",
      "Sample size: 70000 - p-value: 0.0505\n",
      "Sample size: 70500 - p-value: 0.0464\n",
      "Sample size: 71000 - p-value: 0.0307\n",
      "Sample size: 71500 - p-value: 0.0436\n",
      "Sample size: 72000 - p-value: 0.0414\n",
      "Sample size: 72500 - p-value: 0.0462\n",
      "Sample size: 73000 - p-value: 0.0509\n",
      "Sample size: 73500 - p-value: 0.0665\n",
      "Sample size: 74000 - p-value: 0.0658\n",
      "Sample size: 74500 - p-value: 0.0611\n",
      "Sample size: 75000 - p-value: 0.0426\n",
      "Sample size: 75500 - p-value: 0.0385\n",
      "Sample size: 76000 - p-value: 0.0352\n",
      "Sample size: 76500 - p-value: 0.0439\n",
      "Sample size: 77000 - p-value: 0.0400\n",
      "Sample size: 77500 - p-value: 0.0431\n",
      "Sample size: 78000 - p-value: 0.0415\n",
      "Sample size: 78500 - p-value: 0.0319\n",
      "Sample size: 79000 - p-value: 0.0304\n",
      "Sample size: 79500 - p-value: 0.0242\n",
      "Sample size: 80000 - p-value: 0.0230\n",
      "Sample size: 80500 - p-value: 0.0245\n",
      "Sample size: 81000 - p-value: 0.0208\n",
      "Sample size: 81500 - p-value: 0.0240\n",
      "Sample size: 82000 - p-value: 0.0237\n",
      "Sample size: 82500 - p-value: 0.0233\n",
      "Sample size: 83000 - p-value: 0.0268\n",
      "Sample size: 83500 - p-value: 0.0350\n",
      "Sample size: 84000 - p-value: 0.0302\n",
      "Sample size: 84500 - p-value: 0.0331\n",
      "Sample size: 85000 - p-value: 0.0351\n",
      "Sample size: 85500 - p-value: 0.0395\n",
      "Sample size: 86000 - p-value: 0.0447\n",
      "Sample size: 86500 - p-value: 0.0721\n",
      "Sample size: 87000 - p-value: 0.0674\n",
      "Sample size: 87500 - p-value: 0.0809\n",
      "Sample size: 88000 - p-value: 0.0882\n",
      "Sample size: 88500 - p-value: 0.0779\n",
      "Sample size: 89000 - p-value: 0.0800\n",
      "Sample size: 89500 - p-value: 0.0665\n",
      "Sample size: 90000 - p-value: 0.0782\n"
     ]
    },
    {
     "data": {
      "image/png": "[encoded data removed]",
      "text/plain": [
       "<Figure size 800x500 with 1 Axes>"
      ]
     },
     "metadata": {},
     "output_type": "display_data"
    }
   ],
   "source": [
    "# TODO\n",
    "# Insert your code HERE\n",
    "df_shuffled = df.sample(frac=1, random_state=42).reset_index(drop=True)\n",
    "\n",
    "# Set the interval for checking results\n",
    "interval = 500\n",
    "p_values = []\n",
    "sample_sizes = []\n",
    "\n",
    "# Iterate over the dataset in increments of 500 users\n",
    "for current_n in range(interval, len(df_shuffled) + 1, interval):\n",
    "    # Consider the first current_n users in the shuffled DataFrame\n",
    "    df_subset = df_shuffled.iloc[:current_n]\n",
    "    \n",
    "    # Filter the dataset by version\n",
    "    df_gate_30 = df_subset[df_subset['version'] == 'gate_30']\n",
    "    df_gate_40 = df_subset[df_subset['version'] == 'gate_40']\n",
    "    \n",
    "    # Skip the interval if one of the groups is empty\n",
    "    if len(df_gate_30) == 0 or len(df_gate_40) == 0:\n",
    "        continue\n",
    "\n",
    "    # Calculate the number of users in each group\n",
    "    n_gate_30 = len(df_gate_30)\n",
    "    n_gate_40 = len(df_gate_40)\n",
    "    \n",
    "    # Sum of True values in 'retention_1' gives us the number of retained users \n",
    "    retained_gate_30 = df_gate_30['retention_1'].sum()\n",
    "    retained_gate_40 = df_gate_40['retention_1'].sum()\n",
    "    \n",
    "    # Setup for the Z-test for proportions\n",
    "    counts = np.array([retained_gate_30, retained_gate_40])\n",
    "    nobs = np.array([n_gate_30, n_gate_40])\n",
    "    \n",
    "    z_stat, p_value = proportions_ztest(counts, nobs)\n",
    "    \n",
    "    sample_sizes.append(current_n)\n",
    "    p_values.append(p_value)\n",
    "    \n",
    "    print(f\"Sample size: {current_n} - p-value: {p_value:.4f}\")\n",
    "\n",
    "# Plotting the p-values over increasing sample size\n",
    "plt.figure(figsize=(8, 5))\n",
    "plt.plot(sample_sizes, p_values, marker='o', linestyle='-', label='p-value')\n",
    "plt.axhline(y=0.05, color='red', linestyle='--', label='Significance Level (0.05)')\n",
    "plt.title(\"P-value Over Increasing Sample Size (Every 500 Users)\")\n",
    "plt.xlabel(\"Total Users (Sample Size)\")\n",
    "plt.ylabel(\"P-value\")\n",
    "plt.legend()\n",
    "plt.show()"
   ]
  },
  {
   "cell_type": "markdown",
   "id": "44abb17b",
   "metadata": {},
   "source": [
    "⚡ Part 3: Power Analysis\n",
    ">  Determine Required Sample Size"
   ]
  },
  {
   "cell_type": "code",
   "execution_count": 53,
   "id": "7906bad8",
   "metadata": {},
   "outputs": [
    {
     "name": "stdout",
     "output_type": "stream",
     "text": [
      "Effect size (Cohen's h): -0.081\n",
      "Required sample size per group: 2399\n"
     ]
    }
   ],
   "source": [
    "from statsmodels.stats.power import NormalIndPower\n",
    "from statsmodels.stats.proportion import proportion_effectsize\n",
    "\n",
    "# Assumed baseline and target conversion rates\n",
    "p1 = 0.15  # Group A baseline conversion rate\n",
    "p2 = 0.18  # Group B target conversion rate\n",
    "\n",
    "# Calculate effect size using Cohen's h\n",
    "effect_size = proportion_effectsize(p1, p2)\n",
    "print(f\"Effect size (Cohen's h): {effect_size:.3f}\")\n",
    "\n",
    "# Define the significance level and desired power level\n",
    "alpha = 0.05  # Significance level\n",
    "power = 0.8   # Desired power (80%)\n",
    "ratio = 1     # Ratio of sample sizes between the two groups (balanced design)\n",
    "\n",
    "# Create a power analysis object and solve for required sample size per group\n",
    "analysis = NormalIndPower()\n",
    "sample_size = analysis.solve_power(effect_size=effect_size, \n",
    "                                   alpha=alpha, \n",
    "                                   power=power, \n",
    "                                   ratio=ratio, \n",
    "                                   alternative='two-sided')\n",
    "print(f\"Required sample size per group: {sample_size:.0f}\")\n"
   ]
  },
  {
   "cell_type": "markdown",
   "id": "f62d1be7",
   "metadata": {},
   "source": [
    "Enjoy & Happy A/B Testing :) ......!"
   ]
  },
  {
   "cell_type": "markdown",
   "id": "43332a5a",
   "metadata": {},
   "source": []
  },
  {
   "cell_type": "markdown",
   "id": "9bbc500f",
   "metadata": {},
   "source": []
  }
 ],
 "metadata": {
  "kernelspec": {
   "display_name": "Python 3",
   "language": "python",
   "name": "python3"
  },
  "language_info": {
   "codemirror_mode": {
    "name": "ipython",
    "version": 3
   },
   "file_extension": ".py",
   "mimetype": "text/x-python",
   "name": "python",
   "nbconvert_exporter": "python",
   "pygments_lexer": "ipython3",
   "version": "3.9.6"
  }
 },
 "nbformat": 4,
 "nbformat_minor": 5
}
